{
  "nbformat": 4,
  "nbformat_minor": 0,
  "metadata": {
    "colab": {
      "name": "Bar Weight Calculator.ipynb",
      "provenance": [],
      "authorship_tag": "ABX9TyNE01uXrX+uxn5TmKCtfHdh",
      "include_colab_link": true
    },
    "kernelspec": {
      "name": "python3",
      "display_name": "Python 3"
    },
    "language_info": {
      "name": "python"
    }
  },
  "cells": [
    {
      "cell_type": "markdown",
      "metadata": {
        "id": "view-in-github",
        "colab_type": "text"
      },
      "source": [
        "<a href=\"https://colab.research.google.com/github/SHodapp117/UCBerkeley-DS-A-/blob/main/Bar_Weight_Calculator.ipynb\" target=\"_parent\"><img src=\"https://colab.research.google.com/assets/colab-badge.svg\" alt=\"Open In Colab\"/></a>"
      ]
    },
    {
      "cell_type": "code",
      "execution_count": 2,
      "metadata": {
        "id": "-H6xCAgYTKTw",
        "colab": {
          "base_uri": "https://localhost:8080/"
        },
        "outputId": "197f2020-280b-4fbe-d64c-2afb1da941bb"
      },
      "outputs": [
        {
          "output_type": "stream",
          "name": "stdout",
          "text": [
            "Enter weight: 185\n",
            "45lb bar\n",
            "185lbs\n",
            "2 | 45's\n",
            "2 | 25's\n"
          ]
        }
      ],
      "source": [
        "class User:\n",
        "    weights=(45, 35, 25, 10, 5, 2.5)\n",
        "    bar_weight = 45\n",
        "    def __init__(self, target_weight):\n",
        "        self.target_weight = target_weight\n",
        "        self.remaining = target_weight - self.bar_weight\n",
        "    \n",
        "    def compute(self):\n",
        "        remaining = self.remaining\n",
        "        nweights = []\n",
        "        weights = self.weights\n",
        "        for  i, weight in enumerate(weights):\n",
        "            if int(remaining / weight) % 2 == 0:\n",
        "                nweights.append(int(remaining/ weight))\n",
        "            else:\n",
        "                nweights.append(int(remaining/ weight) - 1)\n",
        "            remaining = remaining - nweights[i]*weights[i]\n",
        "            if remaining == 0:\n",
        "                break\n",
        "\n",
        "        listweights=zip(nweights, weights)\n",
        "        print(f'{self.bar_weight}lb bar')\n",
        "        print(f'{self.target_weight}lbs')\n",
        "\n",
        "        for weight in listweights:\n",
        "            if weight[0] >= 2:\n",
        "                print(f\"{weight[0]} | {weight[1]}'s\")\n",
        "\n",
        "        if remaining !=0:\n",
        "            print(f'the correct weight combination cannot be found,'\n",
        "                    f'the remaining weight is: {remaining} pound')\n",
        "\n",
        "\n",
        "\n",
        "if __name__ == \"__main__\":\n",
        "  target_weight = int(input('Enter weight: '))\n",
        "  User(target_weight).compute()\n",
        "\n"
      ]
    }
  ]
}