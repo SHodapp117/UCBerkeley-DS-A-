{
  "nbformat": 4,
  "nbformat_minor": 0,
  "metadata": {
    "colab": {
      "name": "UCBDS&A_Ch1.ipynb",
      "provenance": [],
      "authorship_tag": "ABX9TyN/al//YV3bhZNxpX509Ak+",
      "include_colab_link": true
    },
    "kernelspec": {
      "name": "python3",
      "display_name": "Python 3"
    },
    "language_info": {
      "name": "python"
    }
  },
  "cells": [
    {
      "cell_type": "markdown",
      "metadata": {
        "id": "view-in-github",
        "colab_type": "text"
      },
      "source": [
        "<a href=\"https://colab.research.google.com/github/SHodapp117/UCBerkeley-DS-A-/blob/main/UCBDS%26A_Ch1.ipynb\" target=\"_parent\"><img src=\"https://colab.research.google.com/assets/colab-badge.svg\" alt=\"Open In Colab\"/></a>"
      ]
    },
    {
      "cell_type": "markdown",
      "source": [
        "R1.1 Write a function that take a interger n and checks and sees if m is a multiple of n."
      ],
      "metadata": {
        "id": "WQeg7zEMOlJT"
      }
    },
    {
      "cell_type": "code",
      "execution_count": 14,
      "metadata": {
        "colab": {
          "base_uri": "https://localhost:8080/"
        },
        "id": "SOquHC-wJNcv",
        "outputId": "a8515d00-04ae-412c-fb16-7f07df00cd5c"
      },
      "outputs": [
        {
          "output_type": "execute_result",
          "data": {
            "text/plain": [
              "True"
            ]
          },
          "metadata": {},
          "execution_count": 14
        }
      ],
      "source": [
        "def is_multiple(m,n):\n",
        "    return (m % n) == 0\n",
        "\n",
        "is_multiple(6,2)\n"
      ]
    },
    {
      "cell_type": "markdown",
      "source": [
        "R1.2 write a function that takes an interger value, k and returns true if k is even and false is k is not even. function cannot contain multiplication or division or modulo operations. \n",
        "\n",
        "\n"
      ],
      "metadata": {
        "id": "eZsHzp2_Osi6"
      }
    },
    {
      "cell_type": "code",
      "source": [
        "def is_even(k):\n",
        "  #my idea was to use bitwise operations, but using a double counter could work as well \n",
        "  result =  (k & 1);\n",
        "  if result == 0:\n",
        "    print(\"Even\")\n",
        "  else:\n",
        "    print(\"Odd\")\n",
        "\n",
        "\n",
        "\n"
      ],
      "metadata": {
        "colab": {
          "base_uri": "https://localhost:8080/"
        },
        "id": "P4oaGGjhVJmX",
        "outputId": "3dc34fa9-076f-4a12-9707-ceede6d6fe46"
      },
      "execution_count": 9,
      "outputs": [
        {
          "output_type": "stream",
          "name": "stdout",
          "text": [
            "odd\n"
          ]
        }
      ]
    },
    {
      "cell_type": "markdown",
      "source": [
        "R1.3: \n",
        "Write a short function minmax(d) that returns the local min and max for a random string of number of unkown length. Return min and max as a tuple and do not use any pre-built min & max functions.\n"
      ],
      "metadata": {
        "id": "TB3wBzV5WbbT"
      }
    },
    {
      "cell_type": "code",
      "source": [
        "# Building the random integer list of random length \n",
        "\n",
        "import random\n",
        "a = random.randint(0,100)\n",
        "b = random.randint(a,100)\n",
        "a = int(a)\n",
        "b = int(b)\n",
        "\n",
        "Numlist = []\n",
        "\n",
        "for i in range(a,b):\n",
        "    n = random.randint(1,3000)\n",
        "    Numlist.append(n)\n",
        " \n",
        "def minmax():\n",
        "  Numlist.sort()\n",
        "  Min = Numlist[0]\n",
        "  Max = Numlist[-1]\n",
        "  #return the two points as a tuple\n",
        "  return (Min,Max)\n",
        "  \n",
        "print(minmax())"
      ],
      "metadata": {
        "colab": {
          "base_uri": "https://localhost:8080/"
        },
        "id": "J-X8mcVNXoC4",
        "outputId": "f00b2995-a867-4972-c7ed-e75e32ce2dd4"
      },
      "execution_count": 3,
      "outputs": [
        {
          "output_type": "stream",
          "name": "stdout",
          "text": [
            "(116, 2731)\n"
          ]
        }
      ]
    },
    {
      "cell_type": "markdown",
      "source": [
        "R1.4\n",
        "Write a short function that takes a positive interger n, and returns the sum of the squares of all positive odd integers smaller then n. "
      ],
      "metadata": {
        "id": "bLY6PuvZ3KI7"
      }
    }
  ]
}